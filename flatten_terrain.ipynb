{
 "cells": [
  {
   "cell_type": "markdown",
   "source": [
    "Question 4:\n",
    "Flattening the Terrain: \n",
    "Write a function flatten_terrain(terrain_data) that takes a 3D NumPy array representing terrain data (e.g., height at each point) and returns a 2D NumPy array representing the flattened height map."
   ],
   "metadata": {
    "collapsed": false
   },
   "id": "ab93b112ee486fb5"
  },
  {
   "cell_type": "code",
   "outputs": [
    {
     "name": "stdout",
     "output_type": "stream",
     "text": [
      "Terrain Data in 3D: \n",
      " [[[0.31980731 0.16853798]\n",
      "  [0.58612734 0.09148729]\n",
      "  [0.3254592  0.64847361]\n",
      "  [0.2214044  0.06117965]]\n",
      "\n",
      " [[0.85619854 0.03973761]\n",
      "  [0.16909473 0.5170487 ]\n",
      "  [0.24829384 0.2123534 ]\n",
      "  [0.50115921 0.81462207]]\n",
      "\n",
      " [[0.66347315 0.61564462]\n",
      "  [0.83847902 0.55337561]\n",
      "  [0.55612573 0.23690341]\n",
      "  [0.85690218 0.06865104]]] \n",
      "\n",
      "Terrain data after reshaping in 2D: \n",
      " [0.31980731 0.09148729 0.2214044  0.03973761 0.24829384 0.81462207\n",
      " 0.83847902 0.23690341]\n"
     ]
    }
   ],
   "source": [
    "import numpy as np\n",
    "\n",
    "def flatten_terrain(terrain_data):\n",
    "    # Reshape 3D terrain data into 2D array and extract height values\n",
    "    return terrain_data.reshape(-1, terrain_data.shape[0])[:, 0]\n",
    "\n",
    "terrain_data = np.random.rand(3, 4, 2)  # Replace with your 3D terrain data\n",
    "print(\"Terrain Data in 3D: \\n\",terrain_data,\"\\n\")\n",
    "flattened_terrain = flatten_terrain(terrain_data)\n",
    "print(\"Terrain data after reshaping in 2D: \\n\",flattened_terrain)\n"
   ],
   "metadata": {
    "collapsed": false,
    "ExecuteTime": {
     "end_time": "2024-06-16T12:26:59.567594900Z",
     "start_time": "2024-06-16T12:26:59.541400300Z"
    }
   },
   "id": "1f3e5c53c50e68c5",
   "execution_count": 12
  },
  {
   "cell_type": "code",
   "outputs": [],
   "source": [],
   "metadata": {
    "collapsed": false
   },
   "id": "4550087a17277147"
  }
 ],
 "metadata": {
  "kernelspec": {
   "display_name": "Python 3",
   "language": "python",
   "name": "python3"
  },
  "language_info": {
   "codemirror_mode": {
    "name": "ipython",
    "version": 2
   },
   "file_extension": ".py",
   "mimetype": "text/x-python",
   "name": "python",
   "nbconvert_exporter": "python",
   "pygments_lexer": "ipython2",
   "version": "2.7.6"
  }
 },
 "nbformat": 4,
 "nbformat_minor": 5
}
